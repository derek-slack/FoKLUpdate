{
 "cells": [
  {
   "cell_type": "markdown",
   "source": [
    "# Industrial Robot Updating Control Problem \n",
    "\n",
    "\"Dataset and Baseline for an Industrial Robot Identification Benchmark\" paper\n",
    "Solving the problem of feed forward torque, black box model. \n",
    "\n",
    "We will solve in two different methodologies\n",
    "- Real Time Update\n",
    "- FoKL Prediction\n",
    "\n",
    "## Data Evaluation\n",
    "For feed forward torque modeling the paper supplies an 18 x n data set where each of the 6 joints' angle, angular velocity, and angular acceleration were tracked, and used to model the feed forward torque required to get to the next state.\n",
    "\n",
    "Due to the nature of GP's this is not ideal for training a model, as the input space increases by '' for each input and will thus very quickly grow larger as it increases. This means some data manipulation must be performed prior to the fitting. The 18 dimensional input space was reduced using a model of the arm, where the distance of the joints from the axis of rotation squared was used as an assumed 'Moment', and velocity and accelerations. This left a 3xn data set which is much more suited for GP fitting.  \n",
    "\n",
    "## FoKL Prediction\n",
    "FoKL is a machine learning technique which is scalable, fast training, and fast evaluating. It does this by carefully selecting terms for removal based on hyperparameters.  \n",
    "\n",
    "## Real Time Update\n",
    "The updating model functionality is unable to work within the FoKL framework due to the variable selection of terms. Previously discarded terms would need to be resampled and potentially selected, this forced resampling means that the advantages of variable selection would be lost. "
   ],
   "metadata": {
    "collapsed": false
   },
   "id": "78c003221fb78621"
  },
  {
   "cell_type": "code",
   "execution_count": 1,
   "outputs": [],
   "source": [
    "# Import Relevant Libraries\n",
    "\n",
    "# For Data Processing\n",
    "import numpy as np\n",
    "import pandas as pd\n",
    "from src.FoKL import FoKLRoutines\n",
    "from Rotations import Arm\n",
    "\n",
    "model = FoKLRoutines.FoKL()\n",
    "\n",
    "modelF = FoKLRoutines.FoKL()\n",
    "\n",
    "# For Graphing\n",
    "import plotly.express as px\n",
    "import plotly.graph_objs as go\n",
    "import plotly.io as pio\n",
    "pio.renderers.default = \"browser\"\n",
    "\n",
    "df = pd.DataFrame()\n",
    "# Import Robot Arm Data\n",
    "\n",
    "u_test = pd.read_csv(\"u_test.csv\", header=None).to_numpy()\n",
    "u_train = pd.read_csv(\"u_train.csv\", header=None).to_numpy()\n",
    "y_test = pd.read_csv(\"y_test.csv\", header=None).to_numpy()\n",
    "y_train = pd.read_csv(\"y_train.csv\", header=None).to_numpy()\n"
   ],
   "metadata": {
    "collapsed": false,
    "ExecuteTime": {
     "end_time": "2024-07-12T15:13:57.711740Z",
     "start_time": "2024-07-12T15:13:55.526628Z"
    }
   },
   "id": "f28996259b639ae0"
  },
  {
   "cell_type": "markdown",
   "source": [
    "# Creation of Arm Simulation\n",
    "In another module, a set of rotational matrices are designed such that the joint angles given in the paper can be transferred into coordinates in 3D space. This simulation is performed by first creating the arm object. The physical lengths of the links are inputted in with the angles from the data to perform the simulation."
   ],
   "metadata": {
    "collapsed": false
   },
   "id": "2ed7060fb1d227cc"
  },
  {
   "cell_type": "code",
   "execution_count": 2,
   "outputs": [],
   "source": [
    "# Initialize Arm\n",
    "l1 = [350, 0, 0]\n",
    "l2 = [1150, 0, 0]\n",
    "l3 = [1000,0,0]\n",
    "l4 = [5000,0,0]\n",
    "\n",
    "initial_angles_train = np.array(u_train[:,0])\n",
    "initial_angles_test = np.array(u_test[:,0])\n",
    "# Create arm object\n",
    "ArmTrain = Arm(l1,l2,l3,l4,initial_angles_train,u_train)\n",
    "ArmTest = Arm(l1,l2,l3,l4,initial_angles_test,u_test)\n",
    "# simulate arm motion, receive inputs\n",
    "Mtrain,Vtrain,Atrain = ArmTrain.simulate()\n",
    "Mtest,Vtest,Atest = ArmTest.simulate()\n",
    "\n",
    "# Now perform input manipulation\n",
    "inputsTrain = [Mtrain,Vtrain,Atrain]\n",
    "inputsTest = [Mtest,Vtest,Atest]\n",
    "dataTrain = y_train[0,:]\n",
    "dataTest = y_test[0,:]"
   ],
   "metadata": {
    "collapsed": false,
    "ExecuteTime": {
     "end_time": "2024-07-12T15:14:02.376195Z",
     "start_time": "2024-07-12T15:14:01.033575Z"
    }
   },
   "id": "b77b6b810e274465"
  },
  {
   "cell_type": "markdown",
   "source": [
    "# Model Setup\n",
    "Next the hyperparameters are set up for the BSS_Anova model. \n"
   ],
   "metadata": {
    "collapsed": false
   },
   "id": "b709eb4ebbfb8a53"
  },
  {
   "cell_type": "code",
   "execution_count": 5,
   "outputs": [
    {
     "ename": "NameError",
     "evalue": "name 'modelF' is not defined",
     "output_type": "error",
     "traceback": [
      "\u001B[0;31m---------------------------------------------------------------------------\u001B[0m",
      "\u001B[0;31mNameError\u001B[0m                                 Traceback (most recent call last)",
      "Cell \u001B[0;32mIn[5], line 8\u001B[0m\n\u001B[1;32m      6\u001B[0m \u001B[38;5;66;03m# a (inverse gamma distribution shape factor for data observation error variance)\u001B[39;00m\n\u001B[1;32m      7\u001B[0m model\u001B[38;5;241m.\u001B[39ma \u001B[38;5;241m=\u001B[39m \u001B[38;5;241m9\u001B[39m\n\u001B[0;32m----> 8\u001B[0m \u001B[43mmodelF\u001B[49m\u001B[38;5;241m.\u001B[39ma \u001B[38;5;241m=\u001B[39m \u001B[38;5;241m9\u001B[39m\n\u001B[1;32m     11\u001B[0m \u001B[38;5;66;03m# b (inverse gamma distribution scale factor for data observation error variance)\u001B[39;00m\n\u001B[1;32m     12\u001B[0m model\u001B[38;5;241m.\u001B[39mb \u001B[38;5;241m=\u001B[39m \u001B[38;5;241m0.01\u001B[39m\n",
      "\u001B[0;31mNameError\u001B[0m: name 'modelF' is not defined"
     ]
    }
   ],
   "source": [
    "# Hyperparameter set up\n",
    "\n",
    "# sigsqd0\n",
    "model.sigsqd0 = 0.009\n",
    "\n",
    "# a (inverse gamma distribution shape factor for data observation error variance)\n",
    "model.a = 9\n",
    "modelF.a = 9\n",
    "\n",
    "\n",
    "# b (inverse gamma distribution scale factor for data observation error variance)\n",
    "model.b = 0.01\n",
    "modelF.b = 0.01\n",
    "\n",
    "# atau (inverse gamma distribution shape factor for beta prior variance)\n",
    "model.atau = 3\n",
    "modelF.atau = 3\n",
    "\n",
    "# btau (inverse gamma distribution scale factor for beta prior variance)\n",
    "model.btau = 4000\n",
    "modelF.btau = 4000\n",
    "\n",
    "# tolerance (number of times needed to run Gibbs Sampling with a higher BIC than previous lowest (best) value)\n",
    "model.tolerance = 3\n",
    "modelF.tolerance = 3\n",
    "\n",
    "# Allows for exclusion of term combinations (in this case none)\n",
    "model.relats_in = []\n",
    "modelF.relats_in = []\n",
    "\n",
    "# draws from the posterior for each tested model\n",
    "model.draws = 1000\n",
    "modelF.draws = 1000\n",
    "\n",
    "model.gimmie = False\n",
    "modelF.gimmie = False\n",
    "model.aic = False\n",
    "modelF.aic = False\n",
    "\n",
    "# New input hypers\n",
    "model.update = True\n",
    "model.built = False\n",
    "model.burnin = 0"
   ],
   "metadata": {
    "collapsed": false,
    "ExecuteTime": {
     "end_time": "2024-07-12T15:42:33.541992Z",
     "start_time": "2024-07-12T15:42:33.191237Z"
    }
   },
   "id": "81d1c4039f390f98"
  },
  {
   "cell_type": "markdown",
   "source": [
    "# Model Setup Cont.\n",
    "Due to the nature of an updating dating set, min and max criteria must be defined prior to normalization, or new inputs that would fall outside the extrema would result in a changing normalization and invalidate the model. Therefore, a manipulation of normalization and then a manual definition of inputs and data is performed prior to fitting."
   ],
   "metadata": {
    "collapsed": false
   },
   "id": "42438a1f8cbf9589"
  },
  {
   "cell_type": "code",
   "execution_count": 4,
   "outputs": [
    {
     "name": "stderr",
     "output_type": "stream",
     "text": [
      "/Users/derekslack/PycharmProjects/FoKL-GPy-main-8/src/FoKL/FoKLRoutines.py:297: UserWarning:\n",
      "\n",
      "'inputs' was transposed. Ignore if more datapoints than input variables, else set 'AutoTranspose=False' to disable.\n",
      "\n"
     ]
    }
   ],
   "source": [
    "# Automatically normalize and format:\n",
    "model.cleanFun(inputsTrain,dataTrain)\n",
    "\n",
    "x = model.inputs\n",
    "y = model.data\n",
    "\n",
    "modelF.inputs = x\n",
    "modelF.data = y"
   ],
   "metadata": {
    "collapsed": false,
    "ExecuteTime": {
     "end_time": "2024-07-12T15:23:36.993942Z",
     "start_time": "2024-07-12T15:23:36.978535Z"
    }
   },
   "id": "89756799d86b1b4"
  },
  {
   "cell_type": "markdown",
   "source": [
    "# FoKL Fit Check\n",
    "Next we can perform a FoKL fit across the entirity of the data\n",
    "\n",
    " "
   ],
   "metadata": {
    "collapsed": false
   },
   "id": "de606a4a5049650f"
  },
  {
   "cell_type": "code",
   "execution_count": null,
   "outputs": [],
   "source": [
    "modelF.fit()\n",
    "modelF.coverage3()"
   ],
   "metadata": {
    "collapsed": false
   },
   "id": "55b38676b2290b49"
  }
 ],
 "metadata": {
  "kernelspec": {
   "display_name": "Python 3",
   "language": "python",
   "name": "python3"
  },
  "language_info": {
   "codemirror_mode": {
    "name": "ipython",
    "version": 2
   },
   "file_extension": ".py",
   "mimetype": "text/x-python",
   "name": "python",
   "nbconvert_exporter": "python",
   "pygments_lexer": "ipython2",
   "version": "2.7.6"
  }
 },
 "nbformat": 4,
 "nbformat_minor": 5
}
